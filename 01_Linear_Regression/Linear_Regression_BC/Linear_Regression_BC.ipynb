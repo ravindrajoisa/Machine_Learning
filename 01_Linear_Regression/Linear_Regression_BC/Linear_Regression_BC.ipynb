{
 "cells": [
  {
   "cell_type": "code",
   "execution_count": 1,
   "id": "88d07f85-1b6d-4630-b115-95228827a4c5",
   "metadata": {},
   "outputs": [],
   "source": [
    "# import libraries\n",
    "\n",
    "import pandas as pd\n",
    "import numpy as np\n",
    "from sklearn.linear_model import LinearRegression\n",
    "import joblib #for saving the model\n",
    "\n",
    "# load the dataset\n",
    "\n",
    "data = pd.read_csv(\"Linear-Regression-_Training-Data_-.csv\")"
   ]
  },
  {
   "cell_type": "code",
   "execution_count": 2,
   "id": "f4bcdb18-2699-421b-96f0-409ff3dc04f3",
   "metadata": {},
   "outputs": [
    {
     "data": {
      "text/html": [
       "<div>\n",
       "<style scoped>\n",
       "    .dataframe tbody tr th:only-of-type {\n",
       "        vertical-align: middle;\n",
       "    }\n",
       "\n",
       "    .dataframe tbody tr th {\n",
       "        vertical-align: top;\n",
       "    }\n",
       "\n",
       "    .dataframe thead th {\n",
       "        text-align: right;\n",
       "    }\n",
       "</style>\n",
       "<table border=\"1\" class=\"dataframe\">\n",
       "  <thead>\n",
       "    <tr style=\"text-align: right;\">\n",
       "      <th></th>\n",
       "      <th>Purchase hybrid vehicle</th>\n",
       "      <th>Age</th>\n",
       "      <th>Education</th>\n",
       "      <th>Income</th>\n",
       "      <th>Vehicle Ownership</th>\n",
       "    </tr>\n",
       "  </thead>\n",
       "  <tbody>\n",
       "    <tr>\n",
       "      <th>0</th>\n",
       "      <td>0</td>\n",
       "      <td>4</td>\n",
       "      <td>2</td>\n",
       "      <td>4</td>\n",
       "      <td>1</td>\n",
       "    </tr>\n",
       "    <tr>\n",
       "      <th>1</th>\n",
       "      <td>0</td>\n",
       "      <td>1</td>\n",
       "      <td>2</td>\n",
       "      <td>9</td>\n",
       "      <td>1</td>\n",
       "    </tr>\n",
       "    <tr>\n",
       "      <th>2</th>\n",
       "      <td>0</td>\n",
       "      <td>1</td>\n",
       "      <td>3</td>\n",
       "      <td>7</td>\n",
       "      <td>2</td>\n",
       "    </tr>\n",
       "    <tr>\n",
       "      <th>3</th>\n",
       "      <td>1</td>\n",
       "      <td>3</td>\n",
       "      <td>4</td>\n",
       "      <td>12</td>\n",
       "      <td>4</td>\n",
       "    </tr>\n",
       "    <tr>\n",
       "      <th>4</th>\n",
       "      <td>0</td>\n",
       "      <td>2</td>\n",
       "      <td>3</td>\n",
       "      <td>7</td>\n",
       "      <td>2</td>\n",
       "    </tr>\n",
       "  </tbody>\n",
       "</table>\n",
       "</div>"
      ],
      "text/plain": [
       "   Purchase hybrid vehicle  Age  Education  Income  Vehicle Ownership\n",
       "0                        0    4          2       4                  1\n",
       "1                        0    1          2       9                  1\n",
       "2                        0    1          3       7                  2\n",
       "3                        1    3          4      12                  4\n",
       "4                        0    2          3       7                  2"
      ]
     },
     "execution_count": 2,
     "metadata": {},
     "output_type": "execute_result"
    }
   ],
   "source": [
    "data.head()"
   ]
  },
  {
   "cell_type": "code",
   "execution_count": 17,
   "id": "75c1c9d2-2d5b-4b0f-bf7c-ad3d4dc347e0",
   "metadata": {},
   "outputs": [
    {
     "name": "stdout",
     "output_type": "stream",
     "text": [
      "Model has been saved successfully\n"
     ]
    }
   ],
   "source": [
    "# define independent and dependent variables\n",
    "\n",
    "X = data[['Age', 'Education', 'Income', 'Vehicle Ownership']]\n",
    "y = data['Purchase hybrid vehicle']\n",
    "\n",
    "# INitialise the linear regression\n",
    "\n",
    "model=LinearRegression()\n",
    "model.fit(X,y)\n",
    "\n",
    "# save the trained model to a file for later use.\n",
    "\n",
    "joblib.dump(model, \"vehicle_prediction.pkl\")\n",
    "print(\"Model has been saved successfully\")"
   ]
  },
  {
   "cell_type": "code",
   "execution_count": 19,
   "id": "a81f1306-2993-49ce-baad-dd070b504041",
   "metadata": {},
   "outputs": [
    {
     "name": "stdout",
     "output_type": "stream",
     "text": [
      "     Purchase hybrid vehicle  Age  Education  Income  Vehicle Ownership  \\\n",
      "0                          0    4          2       4                  1   \n",
      "1                          0    1          2       9                  1   \n",
      "2                          0    1          3       7                  2   \n",
      "3                          1    3          4      12                  4   \n",
      "4                          0    2          3       7                  2   \n",
      "..                       ...  ...        ...     ...                ...   \n",
      "470                        0    1          3       4                  0   \n",
      "471                        0    4          1       9                  0   \n",
      "472                        1    2          3      13                  0   \n",
      "473                        0    3          2       5                  0   \n",
      "474                        0    3          2       4                  0   \n",
      "\n",
      "     predictions  \n",
      "0          10.90  \n",
      "1          28.80  \n",
      "2          29.39  \n",
      "3         113.29  \n",
      "4          36.82  \n",
      "..           ...  \n",
      "470       -19.09  \n",
      "471        34.41  \n",
      "472        60.67  \n",
      "473        -0.68  \n",
      "474        -8.72  \n",
      "\n",
      "[475 rows x 6 columns]\n"
     ]
    }
   ],
   "source": [
    "# load the test data\n",
    "\n",
    "new_data = pd.read_csv(\"Linear-Regression-_Training-Data_-.csv\")\n",
    "\n",
    "# Select the same columns used during training\n",
    "X_new = new_data[['Age', 'Education', 'Income', 'Vehicle Ownership']]\n",
    "\n",
    "#load the trained model\n",
    "model = joblib.load(\"vehicle_prediction.pkl\")\n",
    "\n",
    "new_data[\"predictions\"] = (model.predict(X_new)*100).round(2)\n",
    "\n",
    "print(new_data)\n",
    "\n",
    "new_data"
   ]
  },
  {
   "cell_type": "code",
   "execution_count": null,
   "id": "dfdecf47-04b6-4617-b83e-1c5494abf222",
   "metadata": {},
   "outputs": [],
   "source": []
  }
 ],
 "metadata": {
  "kernelspec": {
   "display_name": "Python 3 (ipykernel)",
   "language": "python",
   "name": "python3"
  },
  "language_info": {
   "codemirror_mode": {
    "name": "ipython",
    "version": 3
   },
   "file_extension": ".py",
   "mimetype": "text/x-python",
   "name": "python",
   "nbconvert_exporter": "python",
   "pygments_lexer": "ipython3",
   "version": "3.12.4"
  }
 },
 "nbformat": 4,
 "nbformat_minor": 5
}
