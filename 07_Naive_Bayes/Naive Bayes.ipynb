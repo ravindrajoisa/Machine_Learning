{
 "cells": [
  {
   "cell_type": "code",
   "execution_count": 15,
   "id": "4fc4c17e-66a9-4fdc-9b3e-31dfaf53e544",
   "metadata": {},
   "outputs": [],
   "source": [
    "# Play Golf Dataset\n",
    "# Test Data\n",
    "# today = (Sunny, Hot, Normal, False)"
   ]
  },
  {
   "cell_type": "code",
   "execution_count": 1,
   "id": "7f65dddc-7668-4db0-b9cb-76b2baa8b350",
   "metadata": {},
   "outputs": [],
   "source": [
    "import pandas as pd\n",
    "import numpy as np"
   ]
  },
  {
   "cell_type": "code",
   "execution_count": 4,
   "id": "21cf1a75-0216-4d8e-8927-7d7464c91c5b",
   "metadata": {},
   "outputs": [],
   "source": [
    "golf = pd.read_csv(\"golf.csv\")"
   ]
  },
  {
   "cell_type": "code",
   "execution_count": 5,
   "id": "5558f0f2-ceae-4ea8-b750-1cca66531d52",
   "metadata": {},
   "outputs": [
    {
     "data": {
      "text/html": [
       "<div>\n",
       "<style scoped>\n",
       "    .dataframe tbody tr th:only-of-type {\n",
       "        vertical-align: middle;\n",
       "    }\n",
       "\n",
       "    .dataframe tbody tr th {\n",
       "        vertical-align: top;\n",
       "    }\n",
       "\n",
       "    .dataframe thead th {\n",
       "        text-align: right;\n",
       "    }\n",
       "</style>\n",
       "<table border=\"1\" class=\"dataframe\">\n",
       "  <thead>\n",
       "    <tr style=\"text-align: right;\">\n",
       "      <th></th>\n",
       "      <th>Outlook</th>\n",
       "      <th>Temperature</th>\n",
       "      <th>Humidity</th>\n",
       "      <th>Windy</th>\n",
       "      <th>Play</th>\n",
       "    </tr>\n",
       "  </thead>\n",
       "  <tbody>\n",
       "    <tr>\n",
       "      <th>0</th>\n",
       "      <td>sunny</td>\n",
       "      <td>hot</td>\n",
       "      <td>high</td>\n",
       "      <td>False</td>\n",
       "      <td>no</td>\n",
       "    </tr>\n",
       "    <tr>\n",
       "      <th>1</th>\n",
       "      <td>sunny</td>\n",
       "      <td>hot</td>\n",
       "      <td>high</td>\n",
       "      <td>True</td>\n",
       "      <td>no</td>\n",
       "    </tr>\n",
       "    <tr>\n",
       "      <th>2</th>\n",
       "      <td>overcast</td>\n",
       "      <td>hot</td>\n",
       "      <td>high</td>\n",
       "      <td>False</td>\n",
       "      <td>yes</td>\n",
       "    </tr>\n",
       "    <tr>\n",
       "      <th>3</th>\n",
       "      <td>rainy</td>\n",
       "      <td>mild</td>\n",
       "      <td>high</td>\n",
       "      <td>False</td>\n",
       "      <td>yes</td>\n",
       "    </tr>\n",
       "    <tr>\n",
       "      <th>4</th>\n",
       "      <td>rainy</td>\n",
       "      <td>cool</td>\n",
       "      <td>normal</td>\n",
       "      <td>False</td>\n",
       "      <td>yes</td>\n",
       "    </tr>\n",
       "    <tr>\n",
       "      <th>5</th>\n",
       "      <td>rainy</td>\n",
       "      <td>cool</td>\n",
       "      <td>normal</td>\n",
       "      <td>True</td>\n",
       "      <td>no</td>\n",
       "    </tr>\n",
       "    <tr>\n",
       "      <th>6</th>\n",
       "      <td>overcast</td>\n",
       "      <td>cool</td>\n",
       "      <td>normal</td>\n",
       "      <td>True</td>\n",
       "      <td>yes</td>\n",
       "    </tr>\n",
       "    <tr>\n",
       "      <th>7</th>\n",
       "      <td>sunny</td>\n",
       "      <td>mild</td>\n",
       "      <td>high</td>\n",
       "      <td>False</td>\n",
       "      <td>no</td>\n",
       "    </tr>\n",
       "    <tr>\n",
       "      <th>8</th>\n",
       "      <td>sunny</td>\n",
       "      <td>cool</td>\n",
       "      <td>normal</td>\n",
       "      <td>False</td>\n",
       "      <td>yes</td>\n",
       "    </tr>\n",
       "    <tr>\n",
       "      <th>9</th>\n",
       "      <td>rainy</td>\n",
       "      <td>mild</td>\n",
       "      <td>normal</td>\n",
       "      <td>False</td>\n",
       "      <td>yes</td>\n",
       "    </tr>\n",
       "    <tr>\n",
       "      <th>10</th>\n",
       "      <td>sunny</td>\n",
       "      <td>mild</td>\n",
       "      <td>normal</td>\n",
       "      <td>True</td>\n",
       "      <td>yes</td>\n",
       "    </tr>\n",
       "    <tr>\n",
       "      <th>11</th>\n",
       "      <td>overcast</td>\n",
       "      <td>mild</td>\n",
       "      <td>high</td>\n",
       "      <td>True</td>\n",
       "      <td>yes</td>\n",
       "    </tr>\n",
       "    <tr>\n",
       "      <th>12</th>\n",
       "      <td>overcast</td>\n",
       "      <td>hot</td>\n",
       "      <td>normal</td>\n",
       "      <td>False</td>\n",
       "      <td>yes</td>\n",
       "    </tr>\n",
       "    <tr>\n",
       "      <th>13</th>\n",
       "      <td>rainy</td>\n",
       "      <td>mild</td>\n",
       "      <td>high</td>\n",
       "      <td>True</td>\n",
       "      <td>no</td>\n",
       "    </tr>\n",
       "  </tbody>\n",
       "</table>\n",
       "</div>"
      ],
      "text/plain": [
       "     Outlook Temperature Humidity  Windy Play\n",
       "0      sunny         hot     high  False   no\n",
       "1      sunny         hot     high   True   no\n",
       "2   overcast         hot     high  False  yes\n",
       "3      rainy        mild     high  False  yes\n",
       "4      rainy        cool   normal  False  yes\n",
       "5      rainy        cool   normal   True   no\n",
       "6   overcast        cool   normal   True  yes\n",
       "7      sunny        mild     high  False   no\n",
       "8      sunny        cool   normal  False  yes\n",
       "9      rainy        mild   normal  False  yes\n",
       "10     sunny        mild   normal   True  yes\n",
       "11  overcast        mild     high   True  yes\n",
       "12  overcast         hot   normal  False  yes\n",
       "13     rainy        mild     high   True   no"
      ]
     },
     "execution_count": 5,
     "metadata": {},
     "output_type": "execute_result"
    }
   ],
   "source": [
    "golf"
   ]
  },
  {
   "cell_type": "code",
   "execution_count": 7,
   "id": "23972eb0-25fd-46e6-9638-36864f19a993",
   "metadata": {},
   "outputs": [],
   "source": [
    "def prior_prob(golf, label):\n",
    "    total_examples = golf.shape[0]\n",
    "    class_examples = (golf['Play'] == label).sum()\n",
    "    \n",
    "    return class_examples/total_examples"
   ]
  },
  {
   "cell_type": "code",
   "execution_count": 8,
   "id": "2eea52b6-ef9f-42e9-9b14-1b7aedcea4c5",
   "metadata": {},
   "outputs": [
    {
     "name": "stdout",
     "output_type": "stream",
     "text": [
      "{'yes': 0.6428571428571429, 'no': 0.35714285714285715}\n"
     ]
    }
   ],
   "source": [
    "PRIOR = {\n",
    "    'yes' : prior_prob(golf, 'yes'),\n",
    "    'no' : prior_prob(golf, 'no')\n",
    "}\n",
    "print(PRIOR)"
   ]
  },
  {
   "cell_type": "code",
   "execution_count": 9,
   "id": "f5efdc90-8e19-4608-bbfa-43b466251021",
   "metadata": {},
   "outputs": [],
   "source": [
    "def cond_prob(golf, feature, feature_value, label):\n",
    "    filtered_data = golf[golf['Play'] == label]\n",
    "    numerator = np.sum(filtered_data[feature] == feature_value)\n",
    "    denominator = filtered_data.shape[0]\n",
    "    \n",
    "    return numerator/denominator"
   ]
  },
  {
   "cell_type": "code",
   "execution_count": 11,
   "id": "3878bd0c-dac1-459f-8bd0-c4e3287c9f38",
   "metadata": {},
   "outputs": [
    {
     "data": {
      "text/plain": [
       "0.4"
      ]
     },
     "execution_count": 11,
     "metadata": {},
     "output_type": "execute_result"
    }
   ],
   "source": [
    "cond_prob(golf,'Windy', False, 'no' )"
   ]
  },
  {
   "cell_type": "code",
   "execution_count": 10,
   "id": "1b4389dd-2cdd-478d-b6f9-68f993f2e9c2",
   "metadata": {},
   "outputs": [
    {
     "data": {
      "text/plain": [
       "0.2"
      ]
     },
     "execution_count": 10,
     "metadata": {},
     "output_type": "execute_result"
    }
   ],
   "source": [
    "cond_prob(golf,'Humidity', \"normal\", 'no' )"
   ]
  },
  {
   "cell_type": "code",
   "execution_count": 12,
   "id": "e36b30f0-330d-4934-9518-d7f72cdf5a5a",
   "metadata": {},
   "outputs": [
    {
     "name": "stdout",
     "output_type": "stream",
     "text": [
      "no Outlook sunny 0.6\n",
      "no Outlook overcast 0.0\n",
      "no Outlook rainy 0.4\n",
      "no Temperature hot 0.4\n",
      "no Temperature mild 0.4\n",
      "no Temperature cool 0.2\n",
      "no Humidity high 0.8\n",
      "no Humidity normal 0.2\n",
      "no Windy False 0.4\n",
      "no Windy True 0.6\n",
      "\n",
      "yes Outlook sunny 0.22\n",
      "yes Outlook overcast 0.44\n",
      "yes Outlook rainy 0.33\n",
      "yes Temperature hot 0.22\n",
      "yes Temperature mild 0.44\n",
      "yes Temperature cool 0.33\n",
      "yes Humidity high 0.33\n",
      "yes Humidity normal 0.67\n",
      "yes Windy False 0.67\n",
      "yes Windy True 0.33\n",
      "\n"
     ]
    }
   ],
   "source": [
    "features = list(golf.columns)[:-1]\n",
    "COND_PROB = {}\n",
    "\n",
    "\n",
    "for label in golf['Play'].unique():\n",
    "    COND_PROB[label] = {}\n",
    "    for feature in features:\n",
    "        COND_PROB[label][feature] = {}\n",
    "        \n",
    "        feature_values = golf[feature].unique()\n",
    "        \n",
    "        for fea_value in feature_values:\n",
    "            # no, Outlook, sunny\n",
    "            prob = round(cond_prob(golf, feature, fea_value, label), 2)\n",
    "            COND_PROB[label][feature][fea_value] = prob\n",
    "            print(label, feature, fea_value, prob)\n",
    "    print()"
   ]
  },
  {
   "cell_type": "code",
   "execution_count": 13,
   "id": "a3c922bc-bd33-4e4f-9849-175a2664e48b",
   "metadata": {},
   "outputs": [
    {
     "data": {
      "text/plain": [
       "{'no': {'Outlook': {'sunny': 0.6, 'overcast': 0.0, 'rainy': 0.4},\n",
       "  'Temperature': {'hot': 0.4, 'mild': 0.4, 'cool': 0.2},\n",
       "  'Humidity': {'high': 0.8, 'normal': 0.2},\n",
       "  'Windy': {False: 0.4, True: 0.6}},\n",
       " 'yes': {'Outlook': {'sunny': 0.22, 'overcast': 0.44, 'rainy': 0.33},\n",
       "  'Temperature': {'hot': 0.22, 'mild': 0.44, 'cool': 0.33},\n",
       "  'Humidity': {'high': 0.33, 'normal': 0.67},\n",
       "  'Windy': {False: 0.67, True: 0.33}}}"
      ]
     },
     "execution_count": 13,
     "metadata": {},
     "output_type": "execute_result"
    }
   ],
   "source": [
    "COND_PROB"
   ]
  },
  {
   "cell_type": "code",
   "execution_count": 14,
   "id": "7c7a0ca1-638c-4b16-a9ed-4dfa6b32ce8d",
   "metadata": {},
   "outputs": [],
   "source": [
    "# Prediction"
   ]
  },
  {
   "cell_type": "code",
   "execution_count": 16,
   "id": "02014eb9-b3e3-4643-ae51-dcd1161fb288",
   "metadata": {},
   "outputs": [],
   "source": [
    "X_test = [\"sunny\", \"hot\", \"normal\", False]"
   ]
  },
  {
   "cell_type": "code",
   "execution_count": 17,
   "id": "9af185da-d651-4ff4-ae48-5f3654e35445",
   "metadata": {},
   "outputs": [
    {
     "name": "stdout",
     "output_type": "stream",
     "text": [
      "no 0.006857142857142858\n",
      "yes 0.013967202857142858\n"
     ]
    }
   ],
   "source": [
    "for label in golf['Play'].unique():\n",
    "    \n",
    "    prior = PRIOR[label]\n",
    "    liklihood = 1.0\n",
    "    \n",
    "    \n",
    "    for i in range(len(features)):\n",
    "        feature = features[i]\n",
    "        fea_value = X_test[i]\n",
    "        \n",
    "        liklihood *= COND_PROB[label][feature][fea_value]\n",
    "    \n",
    "    post = liklihood*prior\n",
    "    \n",
    "    print(label, post)"
   ]
  },
  {
   "cell_type": "code",
   "execution_count": 18,
   "id": "e882061c-9c7f-4634-8229-9ea8f62710f7",
   "metadata": {},
   "outputs": [
    {
     "data": {
      "text/plain": [
       "0.31578947368421056"
      ]
     },
     "execution_count": 18,
     "metadata": {},
     "output_type": "execute_result"
    }
   ],
   "source": [
    "0.006/ (0.006 + 0.013)"
   ]
  },
  {
   "cell_type": "code",
   "execution_count": 19,
   "id": "c34209a5-ea26-4c6d-9a46-c820e52f8577",
   "metadata": {},
   "outputs": [
    {
     "data": {
      "text/plain": [
       "0.7347368421052631"
      ]
     },
     "execution_count": 19,
     "metadata": {},
     "output_type": "execute_result"
    }
   ],
   "source": [
    "0.01396/ (0.006 + 0.013)"
   ]
  },
  {
   "cell_type": "code",
   "execution_count": null,
   "id": "2dfd1119-e33c-428b-9651-2bd3d59fd55c",
   "metadata": {},
   "outputs": [],
   "source": []
  }
 ],
 "metadata": {
  "kernelspec": {
   "display_name": "Python 3 (ipykernel)",
   "language": "python",
   "name": "python3"
  },
  "language_info": {
   "codemirror_mode": {
    "name": "ipython",
    "version": 3
   },
   "file_extension": ".py",
   "mimetype": "text/x-python",
   "name": "python",
   "nbconvert_exporter": "python",
   "pygments_lexer": "ipython3",
   "version": "3.12.4"
  }
 },
 "nbformat": 4,
 "nbformat_minor": 5
}
