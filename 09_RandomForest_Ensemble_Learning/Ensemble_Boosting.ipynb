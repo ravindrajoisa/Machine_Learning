{
 "cells": [
  {
   "cell_type": "code",
   "execution_count": 1,
   "id": "d22857fa-b89f-4878-936f-c1370f7b47e3",
   "metadata": {},
   "outputs": [
    {
     "data": {
      "text/plain": [
       "'\\nEnsemble : Boosting Introduction\\n\\nIdea : Combine multiple weak learners to form a strong learner to increase the model performance.\\n\\n\\nBagging : Models (high var, low bias) + randomization + aggregation\\n\\nBoosting : Models (low var, high bias) + additively combine\\n\\n\\nNote : Bagging is Parallel. Boosting is Sequential.\\n\\n\\nMost Popular Boosting algorithms are:\\n    * Gradient Boosting\\n    * Adaptive Boosting\\n\\n'"
      ]
     },
     "execution_count": 1,
     "metadata": {},
     "output_type": "execute_result"
    }
   ],
   "source": [
    "'''\n",
    "Ensemble : Boosting Introduction\n",
    "\n",
    "Idea : Combine multiple weak learners to form a strong learner to increase the model performance.\n",
    "\n",
    "\n",
    "Bagging : Models (high var, low bias) + randomization + aggregation\n",
    "\n",
    "Boosting : Models (low var, high bias) + additively combine\n",
    "\n",
    "\n",
    "Note : Bagging is Parallel. Boosting is Sequential.\n",
    "\n",
    "\n",
    "Most Popular Boosting algorithms are:\n",
    "    * Gradient Boosting\n",
    "    * Adaptive Boosting\n",
    "\n",
    "'''"
   ]
  },
  {
   "cell_type": "code",
   "execution_count": 2,
   "id": "13958ff1-af3d-46a2-b98f-f85b63c881dd",
   "metadata": {},
   "outputs": [],
   "source": [
    "# Boosting Intuition\n",
    "# Idea: Boosting reduces high bias, while keeping the variance the same."
   ]
  },
  {
   "cell_type": "code",
   "execution_count": 3,
   "id": "db0a6d0c-99e2-4488-b755-3e4efa4afcab",
   "metadata": {},
   "outputs": [],
   "source": [
    "# Gradient Boosting Code"
   ]
  },
  {
   "cell_type": "code",
   "execution_count": 4,
   "id": "5c411c10-a292-4053-a478-5df0c37ce226",
   "metadata": {},
   "outputs": [],
   "source": [
    "from sklearn.datasets import make_regression"
   ]
  },
  {
   "cell_type": "code",
   "execution_count": 5,
   "id": "d99b0c5d-3475-4e4f-b9e5-b85c5c1cfcc4",
   "metadata": {},
   "outputs": [],
   "source": [
    "X, y = make_regression(n_samples=1000, n_features=10, n_informative=6, noise=2.0)"
   ]
  },
  {
   "cell_type": "code",
   "execution_count": 6,
   "id": "d6ba5e41-c230-45b6-b511-842494e3ef08",
   "metadata": {},
   "outputs": [
    {
     "data": {
      "text/plain": [
       "(1000, 10)"
      ]
     },
     "execution_count": 6,
     "metadata": {},
     "output_type": "execute_result"
    }
   ],
   "source": [
    "X.shape"
   ]
  },
  {
   "cell_type": "code",
   "execution_count": 7,
   "id": "5fcea013-a25e-417e-9533-be3a9319e6a4",
   "metadata": {},
   "outputs": [
    {
     "data": {
      "text/plain": [
       "(1000,)"
      ]
     },
     "execution_count": 7,
     "metadata": {},
     "output_type": "execute_result"
    }
   ],
   "source": [
    "y.shape"
   ]
  },
  {
   "cell_type": "code",
   "execution_count": 8,
   "id": "ec2b38fa-92a2-43de-be85-5869edadbc9b",
   "metadata": {},
   "outputs": [],
   "source": [
    "from sklearn.model_selection import train_test_split"
   ]
  },
  {
   "cell_type": "code",
   "execution_count": 9,
   "id": "f8b7e8fd-e75a-44a0-a0f7-a5de44b77471",
   "metadata": {},
   "outputs": [],
   "source": [
    "X_train, X_test, y_train, y_test = train_test_split(X, y, test_size=0.2, random_state=42)"
   ]
  },
  {
   "cell_type": "code",
   "execution_count": 10,
   "id": "d6c009e3-e596-4c3f-8f55-192fd8837e59",
   "metadata": {},
   "outputs": [],
   "source": [
    "from sklearn.ensemble import GradientBoostingRegressor"
   ]
  },
  {
   "cell_type": "code",
   "execution_count": 11,
   "id": "27d5a4c8-2dbd-4f1f-9ba6-4c62ba18bce9",
   "metadata": {},
   "outputs": [],
   "source": [
    "M = [10, 50, 100, 200, 500, 1000]"
   ]
  },
  {
   "cell_type": "code",
   "execution_count": 12,
   "id": "1680459b-de63-4b56-9215-2cd94f53718e",
   "metadata": {},
   "outputs": [],
   "source": [
    "train_scores = []\n",
    "test_scores = []"
   ]
  },
  {
   "cell_type": "code",
   "execution_count": 13,
   "id": "53689e4d-6d5d-4bba-9799-f1ec2577a2e6",
   "metadata": {},
   "outputs": [],
   "source": [
    "for m in M:\n",
    "    model = GradientBoostingRegressor(n_estimators=m)\n",
    "    model.fit(X_train, y_train)\n",
    "    tr_sc = model.score(X_train, y_train)\n",
    "    te_sc = model.score(X_test, y_test)\n",
    "    \n",
    "    train_scores.append(tr_sc)\n",
    "    test_scores.append(te_sc)"
   ]
  },
  {
   "cell_type": "code",
   "execution_count": 14,
   "id": "19859ca7-2223-4246-b7f4-31202ed08225",
   "metadata": {},
   "outputs": [
    {
     "data": {
      "text/plain": [
       "[0.5979398626052166,\n",
       " 0.961570383416444,\n",
       " 0.9912727043006494,\n",
       " 0.995687602584745,\n",
       " 0.9990968401954818,\n",
       " 0.9998867588720078]"
      ]
     },
     "execution_count": 14,
     "metadata": {},
     "output_type": "execute_result"
    }
   ],
   "source": [
    "train_scores"
   ]
  },
  {
   "cell_type": "code",
   "execution_count": 15,
   "id": "76bd1553-27f6-43a9-b272-5103cbc4d999",
   "metadata": {},
   "outputs": [
    {
     "data": {
      "text/plain": [
       "[0.5370888177987165,\n",
       " 0.9186588060874024,\n",
       " 0.961902533674067,\n",
       " 0.9714641224593973,\n",
       " 0.9752698045412884,\n",
       " 0.9756491503641794]"
      ]
     },
     "execution_count": 15,
     "metadata": {},
     "output_type": "execute_result"
    }
   ],
   "source": [
    "test_scores"
   ]
  },
  {
   "cell_type": "code",
   "execution_count": null,
   "id": "bddd54a0-a6b4-438b-a963-a5c7e8ddf758",
   "metadata": {},
   "outputs": [],
   "source": []
  }
 ],
 "metadata": {
  "kernelspec": {
   "display_name": "Python 3 (ipykernel)",
   "language": "python",
   "name": "python3"
  },
  "language_info": {
   "codemirror_mode": {
    "name": "ipython",
    "version": 3
   },
   "file_extension": ".py",
   "mimetype": "text/x-python",
   "name": "python",
   "nbconvert_exporter": "python",
   "pygments_lexer": "ipython3",
   "version": "3.12.4"
  }
 },
 "nbformat": 4,
 "nbformat_minor": 5
}
