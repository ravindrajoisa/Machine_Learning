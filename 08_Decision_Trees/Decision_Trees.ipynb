{
 "cells": [
  {
   "cell_type": "code",
   "execution_count": 40,
   "id": "7c137747-0840-4af0-aeaf-0a0c173b83d6",
   "metadata": {},
   "outputs": [],
   "source": [
    "# Decision trees are supervised models.\n",
    "# Can be used for Both classification/regression tasks.\n",
    "# They are simple tree like structure (hierarchical in nature).\n",
    "# Decision trees can be thought as nested if else conditions.\n",
    "# Highly interpretable models, easy to explain the workings."
   ]
  },
  {
   "cell_type": "code",
   "execution_count": 41,
   "id": "ffff1e45-6481-426f-8f19-6333466883e3",
   "metadata": {},
   "outputs": [],
   "source": [
    "# Why Decision Trees are popular?\n",
    "# Easy to interpret and represent.\n",
    "# Mimic human level thought. tries to take decisions like a human does.\n",
    "# Ensemble models are made up of Decision trees that performs even better than individual Decision trees.\n",
    "# When feature are categorical, Decision Trees are preffered over other models."
   ]
  },
  {
   "cell_type": "code",
   "execution_count": 42,
   "id": "a8ea80ba-ea72-434f-a584-92dbfc9ee3c7",
   "metadata": {},
   "outputs": [],
   "source": [
    "# Entropy - Entropy is measure of randomness of a system."
   ]
  },
  {
   "cell_type": "code",
   "execution_count": 2,
   "id": "4ea84059-832d-407c-8ac6-d40f19b8e017",
   "metadata": {},
   "outputs": [],
   "source": [
    "import numpy as np"
   ]
  },
  {
   "cell_type": "code",
   "execution_count": 12,
   "id": "0640bf7d-293a-4a86-bca7-1b05df988b4f",
   "metadata": {},
   "outputs": [],
   "source": [
    "def entropy(var):\n",
    "    N = var.shape[0]\n",
    "    values, counts = np.unique(var, return_counts=True)\n",
    "\n",
    "    ent = 0.0\n",
    "\n",
    "    for i in counts:\n",
    "        p = i/N\n",
    "        ent += (p * np.log2(p))\n",
    "\n",
    "    return -ent"
   ]
  },
  {
   "cell_type": "code",
   "execution_count": 8,
   "id": "80bc1ed2-c233-4615-8590-5f8bbf2418fe",
   "metadata": {},
   "outputs": [],
   "source": [
    "Y = np.array([1,0,0,1,0,1,0,1])"
   ]
  },
  {
   "cell_type": "code",
   "execution_count": 9,
   "id": "55676748-7621-4875-82ee-29058c283b01",
   "metadata": {},
   "outputs": [],
   "source": [
    "X = np.array([1,1,1,1,1,1,1])"
   ]
  },
  {
   "cell_type": "code",
   "execution_count": 13,
   "id": "00fc52b0-122f-456a-8508-07be6dec8eef",
   "metadata": {},
   "outputs": [
    {
     "data": {
      "text/plain": [
       "1.0"
      ]
     },
     "execution_count": 13,
     "metadata": {},
     "output_type": "execute_result"
    }
   ],
   "source": [
    "entropy(Y)"
   ]
  },
  {
   "cell_type": "code",
   "execution_count": 14,
   "id": "8fa6c30b-6b0f-4c4b-8cfe-916adba3157b",
   "metadata": {},
   "outputs": [
    {
     "data": {
      "text/plain": [
       "-0.0"
      ]
     },
     "execution_count": 14,
     "metadata": {},
     "output_type": "execute_result"
    }
   ],
   "source": [
    "entropy(X)"
   ]
  },
  {
   "cell_type": "code",
   "execution_count": 33,
   "id": "07895144-dfae-4f72-862e-490b731820b4",
   "metadata": {},
   "outputs": [],
   "source": [
    "# data split - divide it  into multiple nodes"
   ]
  },
  {
   "cell_type": "code",
   "execution_count": 22,
   "id": "07b09a5e-c11e-4988-9045-83e46739ea00",
   "metadata": {},
   "outputs": [],
   "source": [
    "import pandas as pd"
   ]
  },
  {
   "cell_type": "code",
   "execution_count": 24,
   "id": "bc6c56df-8b01-4cf0-a32d-bf06cba5147f",
   "metadata": {},
   "outputs": [],
   "source": [
    "df = pd.read_csv('golf.csv')"
   ]
  },
  {
   "cell_type": "code",
   "execution_count": 25,
   "id": "b36922ee-9f5d-4985-a0a9-4a1e89f2660d",
   "metadata": {},
   "outputs": [
    {
     "data": {
      "text/html": [
       "<div>\n",
       "<style scoped>\n",
       "    .dataframe tbody tr th:only-of-type {\n",
       "        vertical-align: middle;\n",
       "    }\n",
       "\n",
       "    .dataframe tbody tr th {\n",
       "        vertical-align: top;\n",
       "    }\n",
       "\n",
       "    .dataframe thead th {\n",
       "        text-align: right;\n",
       "    }\n",
       "</style>\n",
       "<table border=\"1\" class=\"dataframe\">\n",
       "  <thead>\n",
       "    <tr style=\"text-align: right;\">\n",
       "      <th></th>\n",
       "      <th>Outlook</th>\n",
       "      <th>Temperature</th>\n",
       "      <th>Humidity</th>\n",
       "      <th>Windy</th>\n",
       "      <th>Play</th>\n",
       "    </tr>\n",
       "  </thead>\n",
       "  <tbody>\n",
       "    <tr>\n",
       "      <th>0</th>\n",
       "      <td>sunny</td>\n",
       "      <td>hot</td>\n",
       "      <td>high</td>\n",
       "      <td>False</td>\n",
       "      <td>no</td>\n",
       "    </tr>\n",
       "    <tr>\n",
       "      <th>1</th>\n",
       "      <td>sunny</td>\n",
       "      <td>hot</td>\n",
       "      <td>high</td>\n",
       "      <td>True</td>\n",
       "      <td>no</td>\n",
       "    </tr>\n",
       "    <tr>\n",
       "      <th>2</th>\n",
       "      <td>overcast</td>\n",
       "      <td>hot</td>\n",
       "      <td>high</td>\n",
       "      <td>False</td>\n",
       "      <td>yes</td>\n",
       "    </tr>\n",
       "    <tr>\n",
       "      <th>3</th>\n",
       "      <td>rainy</td>\n",
       "      <td>mild</td>\n",
       "      <td>high</td>\n",
       "      <td>False</td>\n",
       "      <td>yes</td>\n",
       "    </tr>\n",
       "    <tr>\n",
       "      <th>4</th>\n",
       "      <td>rainy</td>\n",
       "      <td>cool</td>\n",
       "      <td>normal</td>\n",
       "      <td>False</td>\n",
       "      <td>yes</td>\n",
       "    </tr>\n",
       "  </tbody>\n",
       "</table>\n",
       "</div>"
      ],
      "text/plain": [
       "    Outlook Temperature Humidity  Windy Play\n",
       "0     sunny         hot     high  False   no\n",
       "1     sunny         hot     high   True   no\n",
       "2  overcast         hot     high  False  yes\n",
       "3     rainy        mild     high  False  yes\n",
       "4     rainy        cool   normal  False  yes"
      ]
     },
     "execution_count": 25,
     "metadata": {},
     "output_type": "execute_result"
    }
   ],
   "source": [
    "df.head()"
   ]
  },
  {
   "cell_type": "code",
   "execution_count": 31,
   "id": "b152c6a0-76ad-42d0-ad36-62b0a7dde8d6",
   "metadata": {},
   "outputs": [],
   "source": [
    "def divide_data(data, feature):\n",
    "\n",
    "    # Here we are working with data frames using Pandas and NumPy\n",
    "    DATA = {}\n",
    "    feat_values = list(df[feature].value_counts().index)\n",
    "    occurence = list(df[feature].value_counts())\n",
    "\n",
    "    for val in feat_values:\n",
    "        DATA[val] = {'data' : pd.DataFrame([], columns=data.columns), 'len':0}\n",
    "\n",
    "    for ix in range(data.shape[0]):\n",
    "        val = data[feature].iloc[ix]\n",
    "\n",
    "        # DATA[val]['data'] = DATA[val]['data'].append(data.iloc[ix])\n",
    "        # append is depricated, so use concat\n",
    "        DATA[val]['data'] = pd.concat([DATA[val]['data'], pd.DataFrame([data.iloc[ix]], columns=data.columns)])\n",
    "        \n",
    "        idx = feat_values.index(val)\n",
    "        DATA[val]['len'] = occurence[idx]\n",
    "\n",
    "    return DATA"
   ]
  },
  {
   "cell_type": "code",
   "execution_count": 32,
   "id": "8519f37f-6e8f-4b28-9213-4e3a39aee4dc",
   "metadata": {},
   "outputs": [
    {
     "data": {
      "text/plain": [
       "{'sunny': {'data':    Outlook Temperature Humidity  Windy Play\n",
       "  0    sunny         hot     high  False   no\n",
       "  1    sunny         hot     high   True   no\n",
       "  7    sunny        mild     high  False   no\n",
       "  8    sunny        cool   normal  False  yes\n",
       "  10   sunny        mild   normal   True  yes,\n",
       "  'len': 5},\n",
       " 'rainy': {'data':    Outlook Temperature Humidity  Windy Play\n",
       "  3    rainy        mild     high  False  yes\n",
       "  4    rainy        cool   normal  False  yes\n",
       "  5    rainy        cool   normal   True   no\n",
       "  9    rainy        mild   normal  False  yes\n",
       "  13   rainy        mild     high   True   no,\n",
       "  'len': 5},\n",
       " 'overcast': {'data':      Outlook Temperature Humidity  Windy Play\n",
       "  2   overcast         hot     high  False  yes\n",
       "  6   overcast        cool   normal   True  yes\n",
       "  11  overcast        mild     high   True  yes\n",
       "  12  overcast         hot   normal  False  yes,\n",
       "  'len': 4}}"
      ]
     },
     "execution_count": 32,
     "metadata": {},
     "output_type": "execute_result"
    }
   ],
   "source": [
    "divide_data(df, 'Outlook')"
   ]
  },
  {
   "cell_type": "code",
   "execution_count": 34,
   "id": "440c2606-0fcd-42c7-93a6-63f473bbb971",
   "metadata": {},
   "outputs": [],
   "source": [
    "# Information gain"
   ]
  },
  {
   "cell_type": "code",
   "execution_count": 35,
   "id": "54bbc3bb-71b3-4848-8e96-bec575794205",
   "metadata": {},
   "outputs": [],
   "source": [
    "def information_gain(data, feature):\n",
    "    examples = data.shape[0]\n",
    "    \n",
    "    DATA = divide_data(data, feature)\n",
    "    \n",
    "    keys = DATA.keys()\n",
    "    \n",
    "    \n",
    "    ent_of_children = 0.0\n",
    "    \n",
    "    for key in keys:\n",
    "        ent_of_children +=  ( (DATA[key]['len']/examples) * entropy(DATA[key]['data']['Play']) )\n",
    "        \n",
    "    info_gain = entropy(data['Play']) - ent_of_children\n",
    "    return info_gain"
   ]
  },
  {
   "cell_type": "code",
   "execution_count": 36,
   "id": "8acaeeb8-b308-4d33-85de-2ca6fd0e8c97",
   "metadata": {},
   "outputs": [
    {
     "data": {
      "text/plain": [
       "0.24674981977443933"
      ]
     },
     "execution_count": 36,
     "metadata": {},
     "output_type": "execute_result"
    }
   ],
   "source": [
    "information_gain(df, 'Outlook')"
   ]
  },
  {
   "cell_type": "code",
   "execution_count": 37,
   "id": "ae7e64b7-b440-4470-86a7-9335173a5c71",
   "metadata": {},
   "outputs": [
    {
     "data": {
      "text/plain": [
       "0.04812703040826949"
      ]
     },
     "execution_count": 37,
     "metadata": {},
     "output_type": "execute_result"
    }
   ],
   "source": [
    "information_gain(df, 'Windy')"
   ]
  },
  {
   "cell_type": "code",
   "execution_count": 38,
   "id": "fb3a0871-4eff-4981-97b9-517a27daa24e",
   "metadata": {},
   "outputs": [
    {
     "data": {
      "text/plain": [
       "0.02922256565895487"
      ]
     },
     "execution_count": 38,
     "metadata": {},
     "output_type": "execute_result"
    }
   ],
   "source": [
    "information_gain(df, 'Temperature')"
   ]
  },
  {
   "cell_type": "code",
   "execution_count": 39,
   "id": "3d34a6e3-c3c9-4e02-8efd-a5b70a9e8010",
   "metadata": {},
   "outputs": [
    {
     "data": {
      "text/plain": [
       "0.15183550136234159"
      ]
     },
     "execution_count": 39,
     "metadata": {},
     "output_type": "execute_result"
    }
   ],
   "source": [
    "information_gain(df, 'Humidity')"
   ]
  },
  {
   "cell_type": "code",
   "execution_count": null,
   "id": "2809af0d-837f-4b08-a231-e5e80f0549d4",
   "metadata": {},
   "outputs": [],
   "source": []
  },
  {
   "cell_type": "code",
   "execution_count": 43,
   "id": "d843cdfc-2052-4aa2-8f29-0bc7e0311e59",
   "metadata": {},
   "outputs": [],
   "source": [
    "# Constructing a Decision Tree"
   ]
  },
  {
   "cell_type": "code",
   "execution_count": 45,
   "id": "b3ae14e3-06a0-4c32-afc7-4c0ce076d196",
   "metadata": {},
   "outputs": [],
   "source": [
    "# Stopping Condition\n",
    "\n",
    "# 1. Pure Node\n",
    "# 2. Can't grow the tree anymore because of lack of points.\n",
    "# 3. If already reach a max depth."
   ]
  },
  {
   "cell_type": "code",
   "execution_count": 50,
   "id": "febd95f8-3b64-4228-baef-032e842365f7",
   "metadata": {},
   "outputs": [],
   "source": [
    "class DecisionTree:\n",
    "    \n",
    "    # constructor\n",
    "    def __init__(self, depth=0, max_depth=5):\n",
    "        # Creating a Node\n",
    "        self.children = {}\n",
    "        self.fkey = None\n",
    "        self.max_depth = max_depth\n",
    "        self.depth = depth\n",
    "        self.target = None\n",
    "        \n",
    "    def train(self, data):\n",
    "        features = ['Outlook', 'Temperature', 'Humidity', 'Windy']\n",
    "        \n",
    "        info_gains = []\n",
    "        \n",
    "        for f in features:\n",
    "            i_gain = information_gain(data, f)\n",
    "            info_gains.append(i_gain)\n",
    "            \n",
    "        # finding the best feature\n",
    "        self.fkey = features[np.argmax(info_gains)]\n",
    "        \n",
    "        #Spliting the Data\n",
    "        DATA = divide_data(data, self.fkey)\n",
    "        \n",
    "        \n",
    "        \n",
    "        # Giving a target label to the Node\n",
    "        labels = list(data['Play'].value_counts().index)\n",
    "        freq = list(data['Play'].value_counts().values)\n",
    "        \n",
    "        self.target = labels[np.argmax(freq)]\n",
    "        \n",
    "        \n",
    "    \n",
    "        \n",
    "        ###### STOPPING CONDITIONS ######\n",
    "        \n",
    "        have_data = 0\n",
    "        keys = DATA.keys()\n",
    "        \n",
    "        for key in keys:\n",
    "            if DATA[key]['len'] > 0:\n",
    "                have_data +=1\n",
    "        \n",
    "        # 1.if it is pure node, if the entropy is zero then you cannot reduce it further, with all the branch nodes as 'yes'\n",
    "        if have_data<2:\n",
    "            return \n",
    "        \n",
    "    \n",
    "        # 2. Early Stop if you have reached max depth\n",
    "        if(self.depth >= self.max_depth):\n",
    "            return\n",
    "        \n",
    "        \n",
    "        print(\"\\t\"*self.depth + \"Making tree with - \", self.fkey)\n",
    "        \n",
    "        \n",
    "        # Recursively train child Node\n",
    "        for key in keys:\n",
    "            new_data = DATA[key]['data']\n",
    "            self.children[key] = DecisionTree(depth = self.depth + 1)\n",
    "            self.children[key].train(new_data)\n",
    "            \n",
    "        return  \n",
    "    \n",
    "    \n",
    "    def predict(self, test):\n",
    "        if self.children == {}:\n",
    "            return self.target\n",
    "        return self.children[test[self.fkey][0]].predict(test)"
   ]
  },
  {
   "cell_type": "code",
   "execution_count": 51,
   "id": "de078506-b8f9-441a-94a4-3f49de1d8200",
   "metadata": {},
   "outputs": [],
   "source": [
    "# Explore the Model"
   ]
  },
  {
   "cell_type": "code",
   "execution_count": 52,
   "id": "9d56ddf6-85e0-4b49-b592-8b5b7cd33679",
   "metadata": {},
   "outputs": [],
   "source": [
    "model = DecisionTree()"
   ]
  },
  {
   "cell_type": "code",
   "execution_count": 54,
   "id": "a193890a-244a-4152-b9ab-2644a9ece9d5",
   "metadata": {},
   "outputs": [
    {
     "name": "stdout",
     "output_type": "stream",
     "text": [
      "Making tree with -  Outlook\n",
      "\tMaking tree with -  Humidity\n",
      "\tMaking tree with -  Windy\n"
     ]
    }
   ],
   "source": [
    "model.train(df)"
   ]
  },
  {
   "cell_type": "code",
   "execution_count": 55,
   "id": "03c8d43a-0068-454c-b4a4-6c43c9a96928",
   "metadata": {},
   "outputs": [
    {
     "data": {
      "text/plain": [
       "<__main__.DecisionTree at 0x1b9db803c50>"
      ]
     },
     "execution_count": 55,
     "metadata": {},
     "output_type": "execute_result"
    }
   ],
   "source": [
    "model"
   ]
  },
  {
   "cell_type": "code",
   "execution_count": 57,
   "id": "344dcc28-58ff-44a3-9fd6-036ce17fdbbf",
   "metadata": {},
   "outputs": [
    {
     "data": {
      "text/plain": [
       "'yes'"
      ]
     },
     "execution_count": 57,
     "metadata": {},
     "output_type": "execute_result"
    }
   ],
   "source": [
    "model.target"
   ]
  },
  {
   "cell_type": "code",
   "execution_count": 58,
   "id": "9b426fb1-a2a5-4feb-9ed2-60cdba216075",
   "metadata": {},
   "outputs": [
    {
     "data": {
      "text/plain": [
       "'Outlook'"
      ]
     },
     "execution_count": 58,
     "metadata": {},
     "output_type": "execute_result"
    }
   ],
   "source": [
    "model.fkey"
   ]
  },
  {
   "cell_type": "code",
   "execution_count": 59,
   "id": "bcbe910c-7030-4d8a-ad66-b7628dae91ce",
   "metadata": {},
   "outputs": [
    {
     "data": {
      "text/plain": [
       "{'sunny': <__main__.DecisionTree at 0x1b9da345100>,\n",
       " 'rainy': <__main__.DecisionTree at 0x1b9d75ff080>,\n",
       " 'overcast': <__main__.DecisionTree at 0x1b9da346b40>}"
      ]
     },
     "execution_count": 59,
     "metadata": {},
     "output_type": "execute_result"
    }
   ],
   "source": [
    "model.children"
   ]
  },
  {
   "cell_type": "code",
   "execution_count": 60,
   "id": "82edbfb4-dea6-4b37-ab2c-92e78c41bcb7",
   "metadata": {},
   "outputs": [
    {
     "data": {
      "text/plain": [
       "<__main__.DecisionTree at 0x1b9da345100>"
      ]
     },
     "execution_count": 60,
     "metadata": {},
     "output_type": "execute_result"
    }
   ],
   "source": [
    "model.children['sunny']"
   ]
  },
  {
   "cell_type": "code",
   "execution_count": 61,
   "id": "33371504-41b8-42b2-88ed-f0f7b49c4fcc",
   "metadata": {},
   "outputs": [
    {
     "data": {
      "text/plain": [
       "'Humidity'"
      ]
     },
     "execution_count": 61,
     "metadata": {},
     "output_type": "execute_result"
    }
   ],
   "source": [
    "model.children['sunny'].fkey"
   ]
  },
  {
   "cell_type": "code",
   "execution_count": 62,
   "id": "87e75240-22a7-46ac-8c01-a98fd87295f8",
   "metadata": {},
   "outputs": [
    {
     "data": {
      "text/plain": [
       "{'high': <__main__.DecisionTree at 0x1b9db5816d0>,\n",
       " 'normal': <__main__.DecisionTree at 0x1b9db6aba70>}"
      ]
     },
     "execution_count": 62,
     "metadata": {},
     "output_type": "execute_result"
    }
   ],
   "source": [
    "model.children['sunny'].children"
   ]
  },
  {
   "cell_type": "code",
   "execution_count": 63,
   "id": "cedf06c4-6756-4ada-906b-38157dc635db",
   "metadata": {},
   "outputs": [
    {
     "data": {
      "text/plain": [
       "{}"
      ]
     },
     "execution_count": 63,
     "metadata": {},
     "output_type": "execute_result"
    }
   ],
   "source": [
    "model.children['sunny'].children['high'].children"
   ]
  },
  {
   "cell_type": "code",
   "execution_count": 64,
   "id": "0c3c1bed-204a-4f37-b37d-a4af41c01fee",
   "metadata": {},
   "outputs": [
    {
     "data": {
      "text/plain": [
       "'yes'"
      ]
     },
     "execution_count": 64,
     "metadata": {},
     "output_type": "execute_result"
    }
   ],
   "source": [
    "model.children['overcast'].target"
   ]
  },
  {
   "cell_type": "code",
   "execution_count": 65,
   "id": "31aeb79e-32c1-42c5-bdab-5089b2227faf",
   "metadata": {},
   "outputs": [
    {
     "data": {
      "text/plain": [
       "{}"
      ]
     },
     "execution_count": 65,
     "metadata": {},
     "output_type": "execute_result"
    }
   ],
   "source": [
    "model.children['overcast'].children"
   ]
  },
  {
   "cell_type": "code",
   "execution_count": 66,
   "id": "bd489c9a-bcc1-4201-89eb-f5ba5b7c954a",
   "metadata": {},
   "outputs": [],
   "source": [
    "# Prediction Time"
   ]
  },
  {
   "cell_type": "code",
   "execution_count": 67,
   "id": "cc1707d8-de43-40c1-92e1-dcdc46d1a4f0",
   "metadata": {},
   "outputs": [],
   "source": [
    "x_test = pd.DataFrame([['sunny', 'hot', 'normal', False]], columns=list(df.columns.values[:-1]))"
   ]
  },
  {
   "cell_type": "code",
   "execution_count": 68,
   "id": "6399d181-8736-475c-a83c-235022976827",
   "metadata": {},
   "outputs": [
    {
     "data": {
      "text/html": [
       "<div>\n",
       "<style scoped>\n",
       "    .dataframe tbody tr th:only-of-type {\n",
       "        vertical-align: middle;\n",
       "    }\n",
       "\n",
       "    .dataframe tbody tr th {\n",
       "        vertical-align: top;\n",
       "    }\n",
       "\n",
       "    .dataframe thead th {\n",
       "        text-align: right;\n",
       "    }\n",
       "</style>\n",
       "<table border=\"1\" class=\"dataframe\">\n",
       "  <thead>\n",
       "    <tr style=\"text-align: right;\">\n",
       "      <th></th>\n",
       "      <th>Outlook</th>\n",
       "      <th>Temperature</th>\n",
       "      <th>Humidity</th>\n",
       "      <th>Windy</th>\n",
       "    </tr>\n",
       "  </thead>\n",
       "  <tbody>\n",
       "    <tr>\n",
       "      <th>0</th>\n",
       "      <td>sunny</td>\n",
       "      <td>hot</td>\n",
       "      <td>normal</td>\n",
       "      <td>False</td>\n",
       "    </tr>\n",
       "  </tbody>\n",
       "</table>\n",
       "</div>"
      ],
      "text/plain": [
       "  Outlook Temperature Humidity  Windy\n",
       "0   sunny         hot   normal  False"
      ]
     },
     "execution_count": 68,
     "metadata": {},
     "output_type": "execute_result"
    }
   ],
   "source": [
    "x_test"
   ]
  },
  {
   "cell_type": "code",
   "execution_count": 69,
   "id": "3e12b2ac-67a4-45ee-a85c-4a44d504454f",
   "metadata": {},
   "outputs": [
    {
     "data": {
      "text/plain": [
       "'yes'"
      ]
     },
     "execution_count": 69,
     "metadata": {},
     "output_type": "execute_result"
    }
   ],
   "source": [
    "model.predict(x_test)"
   ]
  },
  {
   "cell_type": "code",
   "execution_count": null,
   "id": "7e609f7b-6f2e-41aa-b957-bcfb85f64753",
   "metadata": {},
   "outputs": [],
   "source": []
  }
 ],
 "metadata": {
  "kernelspec": {
   "display_name": "Python 3 (ipykernel)",
   "language": "python",
   "name": "python3"
  },
  "language_info": {
   "codemirror_mode": {
    "name": "ipython",
    "version": 3
   },
   "file_extension": ".py",
   "mimetype": "text/x-python",
   "name": "python",
   "nbconvert_exporter": "python",
   "pygments_lexer": "ipython3",
   "version": "3.12.4"
  }
 },
 "nbformat": 4,
 "nbformat_minor": 5
}
